{
 "cells": [
  {
   "cell_type": "markdown",
   "id": "bd6d3a8d-4ea1-48a4-ae2f-9a5fa650f89b",
   "metadata": {},
   "source": [
    "## topic : Python Basics Variable"
   ]
  },
  {
   "cell_type": "markdown",
   "id": "60105f53-0647-46de-82f4-8e7006196caa",
   "metadata": {},
   "source": [
    "### 1.Declare two variables, 'x' and 'y', and assign them integer values. swap the values of these variables without using any temporary variable."
   ]
  },
  {
   "cell_type": "code",
   "execution_count": 3,
   "id": "34bd1d78-b7be-4ad0-96fd-29e42b2f18a6",
   "metadata": {},
   "outputs": [
    {
     "name": "stdout",
     "output_type": "stream",
     "text": [
      "befor swapping: \n",
      "value of x :  10  and y :  20\n",
      "after swapping: \n",
      "value of x :  20  and y :  10\n"
     ]
    }
   ],
   "source": [
    "# declare two variable:\n",
    "x = 10\n",
    "y = 20\n",
    "\n",
    "# swap variable:\n",
    "print(\"befor swapping: \")\n",
    "print(\"value of x : \",x, \" and y : \" ,y)\n",
    "\n",
    "x,y = y,x\n",
    "print(\"after swapping: \")\n",
    "print(\"value of x : \",x, \" and y : \",y)"
   ]
  },
  {
   "cell_type": "markdown",
   "id": "8a823d8e-230f-484c-95e8-ba061705b576",
   "metadata": {
    "tags": []
   },
   "source": [
    "### 2. create a program that calculates the area of a rectangle. take the length and width as inputs from the user and store them in variables. calculate and display the area."
   ]
  },
  {
   "cell_type": "code",
   "execution_count": 4,
   "id": "71ce24a9-5d81-4f3d-bddd-64f621475793",
   "metadata": {},
   "outputs": [
    {
     "name": "stdin",
     "output_type": "stream",
     "text": [
      "enter the length of the rectangle:  30\n",
      "enter the width of the rectangle:  15\n"
     ]
    },
    {
     "name": "stdout",
     "output_type": "stream",
     "text": [
      "the area of the rectangle is : 450.0\n"
     ]
    }
   ],
   "source": [
    "# input from the user for length and width\n",
    "length = float(input(\"enter the length of the rectangle: \"))\n",
    "width = float(input(\"enter the width of the rectangle: \"))\n",
    "\n",
    "#calculate area of rectangle\n",
    "area = length * width\n",
    "\n",
    "# display calculated area\n",
    "print(\"the area of the rectangle is :\", area)\n"
   ]
  },
  {
   "cell_type": "markdown",
   "id": "c9b8a657-c5ea-4f98-b16e-26b6e3b57e1b",
   "metadata": {},
   "source": [
    "### 3. write a python program that converts temperatures from celsius to fahrenheit. take the temperature in celsius as input, store it in a variable, convert it to fahrenheit, and display the result."
   ]
  },
  {
   "cell_type": "code",
   "execution_count": 5,
   "id": "09d7bb94-3dcb-4f7b-a907-f69f77c935af",
   "metadata": {},
   "outputs": [
    {
     "name": "stdin",
     "output_type": "stream",
     "text": [
      "enter the temperature in celsius :  10\n"
     ]
    },
    {
     "name": "stdout",
     "output_type": "stream",
     "text": [
      "temperature in fahrenheit : 50.0\n"
     ]
    }
   ],
   "source": [
    "celsius = int(input(\"enter the temperature in celsius : \"))\n",
    "fahrenheit = (1.8 * celsius) + 32\n",
    "print(\"temperature in fahrenheit :\" , fahrenheit)\n",
    "                    "
   ]
  },
  {
   "cell_type": "markdown",
   "id": "1c4f04a4-1e8f-4368-91d4-4600689a1620",
   "metadata": {},
   "source": [
    "## topic : string based questions"
   ]
  },
  {
   "cell_type": "markdown",
   "id": "f4a25256-04ac-4705-95b1-b6dddc114fe0",
   "metadata": {},
   "source": [
    "### 1. write a python program that takes a string as input and prints the length of the string"
   ]
  },
  {
   "cell_type": "code",
   "execution_count": 6,
   "id": "f8ce50f2-a2ec-4d24-8655-c686698e3963",
   "metadata": {},
   "outputs": [
    {
     "name": "stdin",
     "output_type": "stream",
     "text": [
      "Enter a string:  akanksha\n"
     ]
    },
    {
     "name": "stdout",
     "output_type": "stream",
     "text": [
      "the length of the string is : 8\n"
     ]
    }
   ],
   "source": [
    "# Get input from the user\n",
    "input_string = input(\"Enter a string: \")\n",
    "\n",
    "# calculate and print the length of the string\n",
    "length = len(input_string)\n",
    "print(\"the length of the string is :\" , length)"
   ]
  },
  {
   "cell_type": "markdown",
   "id": "5ceec9a4-a5d6-4fb6-8efb-dd81ae929d47",
   "metadata": {},
   "source": [
    "### 2. Create a program that takes a sentence from the user and counts the number of vowels (a,e,i,o,u) in the string."
   ]
  },
  {
   "cell_type": "code",
   "execution_count": 7,
   "id": "be507dba-b9fa-4c8b-9712-bf625bb434f7",
   "metadata": {},
   "outputs": [
    {
     "name": "stdin",
     "output_type": "stream",
     "text": [
      "enter a sentence:  todays my birthday give me a full marks as my birthday gift\n"
     ]
    },
    {
     "name": "stdout",
     "output_type": "stream",
     "text": [
      "number of vowels: 1\n",
      "number of vowels: 2\n",
      "number of vowels: 3\n",
      "number of vowels: 4\n",
      "number of vowels: 5\n",
      "number of vowels: 6\n",
      "number of vowels: 7\n",
      "number of vowels: 8\n",
      "number of vowels: 9\n",
      "number of vowels: 10\n",
      "number of vowels: 11\n",
      "number of vowels: 12\n",
      "number of vowels: 13\n",
      "number of vowels: 14\n"
     ]
    }
   ],
   "source": [
    "sentence = input(\"enter a sentence: \")\n",
    "vowel_count = 0\n",
    "for char in sentence:\n",
    "    char_lower = char.lower()\n",
    "    if char_lower in \"aeiou\":\n",
    "        vowel_count += 1\n",
    "        print(\"number of vowels:\", vowel_count)\n"
   ]
  },
  {
   "cell_type": "markdown",
   "id": "4fa741e8-9666-4e32-b8ad-4b0c90f84fee",
   "metadata": {},
   "source": [
    "### 3. given a string, reverse the order of characters using string slicing and print the reversed string."
   ]
  },
  {
   "cell_type": "code",
   "execution_count": 8,
   "id": "1af860c9-735d-4924-ac00-95be43a24429",
   "metadata": {},
   "outputs": [
    {
     "name": "stdout",
     "output_type": "stream",
     "text": [
      "tagahb ahsknaka\n"
     ]
    }
   ],
   "source": [
    "# given a string:\n",
    "string = \"akanksha bhagat\"\n",
    "\n",
    "# using slicing method:\n",
    "reversed_string = string[::-1]\n",
    "\n",
    "# print reversed string:\n",
    "print(reversed_string)"
   ]
  },
  {
   "cell_type": "markdown",
   "id": "53ee8854-fa8a-40f2-9fcd-470508dbf2c2",
   "metadata": {},
   "source": [
    "### 4. Write a program that takes a string as input and checks if it is a palindrome (reads the same forwards and backwards).\n"
   ]
  },
  {
   "cell_type": "code",
   "execution_count": 9,
   "id": "8206ee4c-92fc-4781-9e4c-99ed29eed66b",
   "metadata": {},
   "outputs": [
    {
     "name": "stdin",
     "output_type": "stream",
     "text": [
      "enter string :  level\n"
     ]
    },
    {
     "name": "stdout",
     "output_type": "stream",
     "text": [
      "reversed string : l\n",
      "the string is not a palindrome.\n",
      "reversed string : el\n",
      "the string is not a palindrome.\n",
      "reversed string : vel\n",
      "the string is not a palindrome.\n",
      "reversed string : evel\n",
      "the string is not a palindrome.\n",
      "reversed string : level\n",
      "the string is a palindrome.\n"
     ]
    }
   ],
   "source": [
    "string = input(\"enter string : \")\n",
    "revstr = \"\"\n",
    "for i in string:\n",
    "    revstr=i+revstr\n",
    "    print(\"reversed string :\" , revstr)\n",
    "    if(string == revstr):\n",
    "        print(\"the string is a palindrome.\")\n",
    "    else:\n",
    "            print(\"the string is not a palindrome.\")"
   ]
  },
  {
   "cell_type": "markdown",
   "id": "c3e5c66a-9f71-43c1-a7f8-e108fa01ffc2",
   "metadata": {},
   "source": [
    "### 5. Create a program that takes a string as input and removes all the spaces from it. print the modified string without spaces."
   ]
  },
  {
   "cell_type": "code",
   "execution_count": 10,
   "id": "fde49b00-9069-46e1-8845-4f55b7997311",
   "metadata": {},
   "outputs": [
    {
     "name": "stdin",
     "output_type": "stream",
     "text": [
      "enter a string:  have a nice day\n"
     ]
    },
    {
     "name": "stdout",
     "output_type": "stream",
     "text": [
      "modified string without space: haveaniceday\n"
     ]
    }
   ],
   "source": [
    "# takes a string as input:\n",
    "input_string = input(\"enter a string: \")\n",
    "modified_string = input_string.replace(\" \",\"\")\n",
    "                     \n",
    "# print modified string without spaces:                     \n",
    "print(\"modified string without space:\", modified_string)\n",
    "                     "
   ]
  }
 ],
 "metadata": {
  "kernelspec": {
   "display_name": "Python 3 (ipykernel)",
   "language": "python",
   "name": "python3"
  },
  "language_info": {
   "codemirror_mode": {
    "name": "ipython",
    "version": 3
   },
   "file_extension": ".py",
   "mimetype": "text/x-python",
   "name": "python",
   "nbconvert_exporter": "python",
   "pygments_lexer": "ipython3",
   "version": "3.10.8"
  }
 },
 "nbformat": 4,
 "nbformat_minor": 5
}
